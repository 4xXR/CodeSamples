{
 "cells": [
  {
   "cell_type": "code",
   "execution_count": null,
   "metadata": {},
   "outputs": [],
   "source": [
    "from pyspark.sql.types import *\n",
    "from pyspark.sql.functions import *\n",
    "\n",
    "salesSchema = StructType(\n",
    "    [\n",
    "        StructField(\"SalesOrderID\", IntegerType()),\n",
    "        StructField(\"SalesOrderDetailID\",IntegerType()),\n",
    "        StructField(\"CarrierTrackingNumber\",StringType()),\n",
    "        StructField(\"OrderQty\",IntegerType()),\n",
    "        StructField(\"ProductID\",IntegerType()),\n",
    "        StructField(\"SpecialOfferID\",IntegerType()),\n",
    "        StructField(\"UnitPrice\",FloatType()),\n",
    "        StructField(\"UnitPriceDiscount\",FloatType()),\n",
    "        StructField(\"LineTotal\",FloatType()),\n",
    "        StructField(\"rowguid\",StringType()),\n",
    "        StructField(\"ModifiedDate\",TimestampType())\n",
    "    ]\n",
    ")\n",
    "\n",
    "df = spark.read.load('abfss://etlload@knoxlakegen2.dfs.core.windows.net/sales/SalesOrderDetail.csv',\n",
    "format='csv',\n",
    "header=True,\n",
    "schema=salesSchema\n",
    ")\n",
    "display(df)"
   ]
  },
  {
   "cell_type": "code",
   "execution_count": null,
   "metadata": {},
   "outputs": [],
   "source": [
    "df.createOrReplaceTempView(\"vw_sales\")"
   ]
  }
 ],
 "metadata": {
  "language_info": {
   "name": "python"
  },
  "orig_nbformat": 4
 },
 "nbformat": 4,
 "nbformat_minor": 2
}
